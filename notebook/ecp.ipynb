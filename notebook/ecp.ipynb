{
 "cells": [
  {
   "cell_type": "markdown",
   "metadata": {},
   "source": [
    "# Electricity Consumption Prediction (ECP)"
   ]
  },
  {
   "cell_type": "markdown",
   "metadata": {},
   "source": [
    "In this project we're going to predict electricity consumption of each user for future periods.\n",
    "\n",
    "Here is some info and stats about the data:\n",
    "* **Number of unique users: 124675**\n",
    "* **Total number of records: 5601193**\n",
    "\n",
    "Also you can find `headers.xslx` file in `dataset` directory to find some more descriptions about the header names or features."
   ]
  },
  {
   "cell_type": "code",
   "execution_count": 15,
   "metadata": {},
   "outputs": [],
   "source": [
    "# Import required packages\n",
    "import pandas as pd"
   ]
  },
  {
   "cell_type": "code",
   "execution_count": 16,
   "metadata": {},
   "outputs": [],
   "source": [
    "# Load the dataset\n",
    "df = pd.read_csv(\"../dataset/dbBills.csv\")"
   ]
  },
  {
   "cell_type": "code",
   "execution_count": 17,
   "metadata": {},
   "outputs": [
    {
     "name": "stdout",
     "output_type": "stream",
     "text": [
      "   xSubscriptionId_fk           xIdentityNo  xOmorCode  xBakhshCode  \\\n",
      "0             9397665  2/6/15/01/25/10/7651         15            1   \n",
      "1             9396214  2/6/15/01/44/10/4321         15            1   \n",
      "2             9396214  2/6/15/01/44/10/4321         15            1   \n",
      "3             8952093  2/6/15/04/32/04/4870         15            4   \n",
      "4             8952093  2/6/15/04/32/04/4870         15            4   \n",
      "\n",
      "   xCycleCode  xMamorCode xRegionName  xIsTropical xUsageGroupName  \\\n",
      "0          25          10        شهری            0           عمومي   \n",
      "1          44          10        شهری            0           عمومي   \n",
      "2          44          10        شهری            0           عمومي   \n",
      "3          32           4     روستایی            0           عمومي   \n",
      "4          32           4     روستایی            0           عمومي   \n",
      "\n",
      "   xFamilyNum  xTariffOldCode  xFaze  xAmper  xCounterBuldingNo  \\\n",
      "0           1            2990      3      25           12606909   \n",
      "1           1            2990      3      25         8336853341   \n",
      "2           1            2990      3      25         8336853341   \n",
      "3           1            2990      3      25           37337459   \n",
      "4           1            2990      3      25           37337459   \n",
      "\n",
      "   xTimeControlCode xBillStartDate xBillEndDate  xMeduimKw  xHighKw  xLowKw  \n",
      "0                 1     1391/08/25   1391/09/09        538        0       0  \n",
      "1                 1     1391/08/18   1391/09/09       1999        0       0  \n",
      "2                 1     1391/09/09   1391/10/03          0        0       0  \n",
      "3                 1     1386/11/27   1387/02/05       1065        0       0  \n",
      "4                 1     1387/02/05   1387/04/05        560        0       0  \n"
     ]
    }
   ],
   "source": [
    "# Print top 5 reeocrds of dataset\n",
    "print(df.head())"
   ]
  },
  {
   "cell_type": "code",
   "execution_count": 18,
   "metadata": {},
   "outputs": [
    {
     "name": "stdout",
     "output_type": "stream",
     "text": [
      "   xSubscriptionId_fk  xCycleCode  xFamilyNum  xTariffOldCode  xFaze  xAmper  \\\n",
      "0             9397665          25           1            2990      3      25   \n",
      "1             9396214          44           1            2990      3      25   \n",
      "2             9396214          44           1            2990      3      25   \n",
      "3             8952093          32           1            2990      3      25   \n",
      "4             8952093          32           1            2990      3      25   \n",
      "\n",
      "  xBillStartDate xBillEndDate  xMeduimKw  xHighKw         ...          \\\n",
      "0     1391/08/25   1391/09/09        538        0         ...           \n",
      "1     1391/08/18   1391/09/09       1999        0         ...           \n",
      "2     1391/09/09   1391/10/03          0        0         ...           \n",
      "3     1386/11/27   1387/02/05       1065        0         ...           \n",
      "4     1387/02/05   1387/04/05        560        0         ...           \n",
      "\n",
      "   xUsageGroupName_Khanegi  xUsageGroupName_Omoomi  xUsageGroupName_Sanati  \\\n",
      "0                        0                       1                       0   \n",
      "1                        0                       1                       0   \n",
      "2                        0                       1                       0   \n",
      "3                        0                       1                       0   \n",
      "4                        0                       1                       0   \n",
      "\n",
      "   xUsageGroupName_Sayer  xBakhshCode_1  xBakhshCode_2  xBakhshCode_4  \\\n",
      "0                      0              1              0              0   \n",
      "1                      0              1              0              0   \n",
      "2                      0              1              0              0   \n",
      "3                      0              0              0              1   \n",
      "4                      0              0              0              1   \n",
      "\n",
      "   xTimeControlCode_1  xTimeControlCode_2  xTimeControlCode_3  \n",
      "0                   1                   0                   0  \n",
      "1                   1                   0                   0  \n",
      "2                   1                   0                   0  \n",
      "3                   1                   0                   0  \n",
      "4                   1                   0                   0  \n",
      "\n",
      "[5 rows x 24 columns]\n"
     ]
    }
   ],
   "source": [
    "# Clean Dataset\n",
    "\n",
    "# df = df.drop('xSubscriptionId_fk', 1) \n",
    "\n",
    "df = df.drop('xIsTropical', 1) # Since it's a constant value\n",
    "df = df.drop('xOmorCode', 1) # Since it's a constant value\n",
    "\n",
    "# df = df.drop('xBillStartDate', 1) # We have to extract month and season / Cycle\n",
    "# df = df.drop('xBillEndDate', 1) # We have to extract month and season / Cycle\n",
    "\n",
    "df = df.drop('xCounterBuldingNo', 1) # Since we can use 'xTimeControlCode' field\n",
    "\n",
    "df = df.drop('xIdentityNo', 1) # Since we can use other decomposed fields.\n",
    "\n",
    "df = df.drop('xMamorCode', 1) # It seems there is no useful information in this field\n",
    "\n",
    "# Map Persian strings to English strings for field: 'xRegionName'\n",
    "region_maps = {'شهری': 'Shahri', 'روستایی': 'Roustaei'}\n",
    "df['xRegionName'].replace(region_maps, inplace=True)\n",
    "\n",
    "# One-Hot Encoding on categorical values\n",
    "# use pd.concat to join the new columns with your original dataframe\n",
    "df = pd.concat([df,pd.get_dummies(df['xRegionName'], prefix='xRegionName')],axis=1)\n",
    "\n",
    "df = df.drop('xRegionName', 1) # Since we can use one-hot encoded features instead\n",
    "\n",
    "# Map Persian strings to English strings for field: 'xUsageGroupName'\n",
    "usage_group_maps = {'عمومي': 'Omoomi',\n",
    "                    'خانگي': 'Khanegi',\n",
    "                    'كشاورزي': 'Keshavarzi',\n",
    "                    'ساير مصارف': 'Sayer',\n",
    "                    'صنعتي': 'Sanati'}\n",
    "df['xUsageGroupName'].replace(usage_group_maps, inplace=True)\n",
    "\n",
    "# One-Hot Encoding on categorical values\n",
    "# use pd.concat to join the new columns with your original dataframe\n",
    "df = pd.concat([df,pd.get_dummies(df['xUsageGroupName'], prefix='xUsageGroupName')],axis=1)\n",
    "\n",
    "df = df.drop('xUsageGroupName', 1) # Since we can use one-hot encoded features instead\n",
    "\n",
    "# One-Hot Encoding on categorical values\n",
    "# use pd.concat to join the new columns with your original dataframe\n",
    "df = pd.concat([df,pd.get_dummies(df['xBakhshCode'], prefix='xBakhshCode')],axis=1)\n",
    "\n",
    "df = df.drop('xBakhshCode', 1) # Since we can use one-hot encoded features instead\n",
    "\n",
    "# One-Hot Encoding on categorical values\n",
    "# use pd.concat to join the new columns with your original dataframe\n",
    "df = pd.concat([df,pd.get_dummies(df['xTimeControlCode'], prefix='xTimeControlCode')],axis=1)\n",
    "\n",
    "df = df.drop('xTimeControlCode', 1) # Since we can use one-hot encoded features instead\n",
    "\n",
    "print(df.head())\n",
    "\n",
    "# xCycleCode ???\n",
    "# xTariffOldCode ???\n",
    "\n",
    "# Save cleaned dataset\n",
    "# df.to_csv('../dataset/dbBills_cleaned.csv')"
   ]
  },
  {
   "cell_type": "code",
   "execution_count": null,
   "metadata": {},
   "outputs": [],
   "source": []
  }
 ],
 "metadata": {
  "kernelspec": {
   "display_name": "Python 3",
   "language": "python",
   "name": "python3"
  },
  "language_info": {
   "codemirror_mode": {
    "name": "ipython",
    "version": 3
   },
   "file_extension": ".py",
   "mimetype": "text/x-python",
   "name": "python",
   "nbconvert_exporter": "python",
   "pygments_lexer": "ipython3",
   "version": "3.5.2"
  }
 },
 "nbformat": 4,
 "nbformat_minor": 2
}
