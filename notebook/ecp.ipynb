{
 "cells": [
  {
   "cell_type": "markdown",
   "metadata": {},
   "source": [
    "# Electricity Consumption Prediction (ECP)"
   ]
  },
  {
   "cell_type": "markdown",
   "metadata": {},
   "source": [
    "In this project we're going to predict electricity consumption of each user for future periods.\n",
    "\n",
    "Here is some info and stats about the data:\n",
    "* **Number of unique users: 124675**\n",
    "* **Total number of records: 5601193**\n",
    "\n",
    "Also you can find `headers.xslx` file in `dataset` directory to find some more descriptions about the header names or features."
   ]
  },
  {
   "cell_type": "code",
   "execution_count": 17,
   "metadata": {},
   "outputs": [],
   "source": [
    "# Import required packages\n",
    "\n",
    "import datetime\n",
    "import pandas as pd\n",
    "import seaborn as sns\n",
    "from scipy import stats\n",
    "import matplotlib.pyplot as plt\n",
    "from sklearn import preprocessing\n",
    "from persiantools.jdatetime import JalaliDate\n",
    "\n",
    "%matplotlib inline\n",
    "\n",
    "pd.set_option(\"display.max_columns\", None)\n",
    "pd.set_option(\"display.max_rows\", None)"
   ]
  },
  {
   "cell_type": "markdown",
   "metadata": {},
   "source": [
    "## 1.1. Peek at Our Data\n",
    "\n",
    "There is no substitute for looking at the raw data.\n",
    "\n",
    "Looking at the raw data can reveal insights that you cannot get any other way. It can also plant seeds that may later grow into ideas on how to better preprocess and handle the data for machine learning tasks.\n",
    "\n",
    "We can review the first 5 rows of our data here."
   ]
  },
  {
   "cell_type": "code",
   "execution_count": 18,
   "metadata": {},
   "outputs": [
    {
     "data": {
      "text/html": [
       "<div>\n",
       "<style scoped>\n",
       "    .dataframe tbody tr th:only-of-type {\n",
       "        vertical-align: middle;\n",
       "    }\n",
       "\n",
       "    .dataframe tbody tr th {\n",
       "        vertical-align: top;\n",
       "    }\n",
       "\n",
       "    .dataframe thead th {\n",
       "        text-align: right;\n",
       "    }\n",
       "</style>\n",
       "<table border=\"1\" class=\"dataframe\">\n",
       "  <thead>\n",
       "    <tr style=\"text-align: right;\">\n",
       "      <th></th>\n",
       "      <th>xSubscriptionId_fk</th>\n",
       "      <th>xIdentityNo</th>\n",
       "      <th>xOmorCode</th>\n",
       "      <th>xBakhshCode</th>\n",
       "      <th>xCycleCode</th>\n",
       "      <th>xMamorCode</th>\n",
       "      <th>xRegionName</th>\n",
       "      <th>xIsTropical</th>\n",
       "      <th>xUsageGroupName</th>\n",
       "      <th>xFamilyNum</th>\n",
       "      <th>xTariffOldCode</th>\n",
       "      <th>xFaze</th>\n",
       "      <th>xAmper</th>\n",
       "      <th>xCounterBuldingNo</th>\n",
       "      <th>xTimeControlCode</th>\n",
       "      <th>xBillStartDate</th>\n",
       "      <th>xBillEndDate</th>\n",
       "      <th>xMeduimKw</th>\n",
       "      <th>xHighKw</th>\n",
       "      <th>xLowKw</th>\n",
       "    </tr>\n",
       "  </thead>\n",
       "  <tbody>\n",
       "    <tr>\n",
       "      <th>0</th>\n",
       "      <td>9397665</td>\n",
       "      <td>2/6/15/01/25/10/7651</td>\n",
       "      <td>15</td>\n",
       "      <td>1</td>\n",
       "      <td>25</td>\n",
       "      <td>10</td>\n",
       "      <td>شهری</td>\n",
       "      <td>0</td>\n",
       "      <td>عمومي</td>\n",
       "      <td>1</td>\n",
       "      <td>2990</td>\n",
       "      <td>3</td>\n",
       "      <td>25</td>\n",
       "      <td>12606909</td>\n",
       "      <td>1</td>\n",
       "      <td>1391/08/25</td>\n",
       "      <td>1391/09/09</td>\n",
       "      <td>538</td>\n",
       "      <td>0</td>\n",
       "      <td>0</td>\n",
       "    </tr>\n",
       "    <tr>\n",
       "      <th>1</th>\n",
       "      <td>9396214</td>\n",
       "      <td>2/6/15/01/44/10/4321</td>\n",
       "      <td>15</td>\n",
       "      <td>1</td>\n",
       "      <td>44</td>\n",
       "      <td>10</td>\n",
       "      <td>شهری</td>\n",
       "      <td>0</td>\n",
       "      <td>عمومي</td>\n",
       "      <td>1</td>\n",
       "      <td>2990</td>\n",
       "      <td>3</td>\n",
       "      <td>25</td>\n",
       "      <td>8336853341</td>\n",
       "      <td>1</td>\n",
       "      <td>1391/08/18</td>\n",
       "      <td>1391/09/09</td>\n",
       "      <td>1999</td>\n",
       "      <td>0</td>\n",
       "      <td>0</td>\n",
       "    </tr>\n",
       "    <tr>\n",
       "      <th>2</th>\n",
       "      <td>9396214</td>\n",
       "      <td>2/6/15/01/44/10/4321</td>\n",
       "      <td>15</td>\n",
       "      <td>1</td>\n",
       "      <td>44</td>\n",
       "      <td>10</td>\n",
       "      <td>شهری</td>\n",
       "      <td>0</td>\n",
       "      <td>عمومي</td>\n",
       "      <td>1</td>\n",
       "      <td>2990</td>\n",
       "      <td>3</td>\n",
       "      <td>25</td>\n",
       "      <td>8336853341</td>\n",
       "      <td>1</td>\n",
       "      <td>1391/09/09</td>\n",
       "      <td>1391/10/03</td>\n",
       "      <td>0</td>\n",
       "      <td>0</td>\n",
       "      <td>0</td>\n",
       "    </tr>\n",
       "    <tr>\n",
       "      <th>3</th>\n",
       "      <td>8952093</td>\n",
       "      <td>2/6/15/04/32/04/4870</td>\n",
       "      <td>15</td>\n",
       "      <td>4</td>\n",
       "      <td>32</td>\n",
       "      <td>4</td>\n",
       "      <td>روستایی</td>\n",
       "      <td>0</td>\n",
       "      <td>عمومي</td>\n",
       "      <td>1</td>\n",
       "      <td>2990</td>\n",
       "      <td>3</td>\n",
       "      <td>25</td>\n",
       "      <td>37337459</td>\n",
       "      <td>1</td>\n",
       "      <td>1386/11/27</td>\n",
       "      <td>1387/02/05</td>\n",
       "      <td>1065</td>\n",
       "      <td>0</td>\n",
       "      <td>0</td>\n",
       "    </tr>\n",
       "    <tr>\n",
       "      <th>4</th>\n",
       "      <td>8952093</td>\n",
       "      <td>2/6/15/04/32/04/4870</td>\n",
       "      <td>15</td>\n",
       "      <td>4</td>\n",
       "      <td>32</td>\n",
       "      <td>4</td>\n",
       "      <td>روستایی</td>\n",
       "      <td>0</td>\n",
       "      <td>عمومي</td>\n",
       "      <td>1</td>\n",
       "      <td>2990</td>\n",
       "      <td>3</td>\n",
       "      <td>25</td>\n",
       "      <td>37337459</td>\n",
       "      <td>1</td>\n",
       "      <td>1387/02/05</td>\n",
       "      <td>1387/04/05</td>\n",
       "      <td>560</td>\n",
       "      <td>0</td>\n",
       "      <td>0</td>\n",
       "    </tr>\n",
       "  </tbody>\n",
       "</table>\n",
       "</div>"
      ],
      "text/plain": [
       "   xSubscriptionId_fk           xIdentityNo  xOmorCode  xBakhshCode  \\\n",
       "0             9397665  2/6/15/01/25/10/7651         15            1   \n",
       "1             9396214  2/6/15/01/44/10/4321         15            1   \n",
       "2             9396214  2/6/15/01/44/10/4321         15            1   \n",
       "3             8952093  2/6/15/04/32/04/4870         15            4   \n",
       "4             8952093  2/6/15/04/32/04/4870         15            4   \n",
       "\n",
       "   xCycleCode  xMamorCode xRegionName  xIsTropical xUsageGroupName  \\\n",
       "0          25          10        شهری            0           عمومي   \n",
       "1          44          10        شهری            0           عمومي   \n",
       "2          44          10        شهری            0           عمومي   \n",
       "3          32           4     روستایی            0           عمومي   \n",
       "4          32           4     روستایی            0           عمومي   \n",
       "\n",
       "   xFamilyNum  xTariffOldCode  xFaze  xAmper  xCounterBuldingNo  \\\n",
       "0           1            2990      3      25           12606909   \n",
       "1           1            2990      3      25         8336853341   \n",
       "2           1            2990      3      25         8336853341   \n",
       "3           1            2990      3      25           37337459   \n",
       "4           1            2990      3      25           37337459   \n",
       "\n",
       "   xTimeControlCode xBillStartDate xBillEndDate  xMeduimKw  xHighKw  xLowKw  \n",
       "0                 1     1391/08/25   1391/09/09        538        0       0  \n",
       "1                 1     1391/08/18   1391/09/09       1999        0       0  \n",
       "2                 1     1391/09/09   1391/10/03          0        0       0  \n",
       "3                 1     1386/11/27   1387/02/05       1065        0       0  \n",
       "4                 1     1387/02/05   1387/04/05        560        0       0  "
      ]
     },
     "execution_count": 18,
     "metadata": {},
     "output_type": "execute_result"
    }
   ],
   "source": [
    "# Load the dataset\n",
    "df = pd.read_csv(\"../dataset/dbBills.csv\")\n",
    "\n",
    "# Print top 5 reeocrds of dataset\n",
    "df.head()"
   ]
  },
  {
   "cell_type": "markdown",
   "metadata": {},
   "source": [
    "We can see that the first column lists the row number, which is handy for referencing a specific observation."
   ]
  },
  {
   "cell_type": "markdown",
   "metadata": {},
   "source": [
    "## 1.2. Dimensions of Our Data\n",
    "\n",
    "We must have a very good handle on how much data we have, both in terms of rows and columns.\n",
    "\n",
    "Too many rows and algorithms may take too long to train. Too few and perhaps you do not have enough data to train the algorithms.\n",
    "Too many features and some algorithms can be distracted or suffer poor performance due to the curse of dimensionality.\n",
    "You can review the shape and size of your dataset by printing the shape property."
   ]
  },
  {
   "cell_type": "code",
   "execution_count": 19,
   "metadata": {},
   "outputs": [
    {
     "name": "stdout",
     "output_type": "stream",
     "text": [
      "Our data has dimention of 5601193 Records and 20 Columns or Features.\n"
     ]
    }
   ],
   "source": [
    "# Dimensions of your data\n",
    "print(\"Our data has dimention of {} Records and {} Columns or Features.\".format(df.shape[0], df.shape[1]))"
   ]
  },
  {
   "cell_type": "markdown",
   "metadata": {},
   "source": [
    "## 1.3. Data Type For Each Attribute\n",
    "\n",
    "The type of each attribute is important.\n",
    "\n",
    "Strings may need to be converted to floating point values or integers to represent categorical or ordinal values.\n",
    "\n",
    "We can get an idea of the types of attributes by peeking at the raw data, as above. We can also list the data types used by the DataFrame to characterize each attribute using the dtypes property."
   ]
  },
  {
   "cell_type": "code",
   "execution_count": 20,
   "metadata": {},
   "outputs": [
    {
     "data": {
      "text/plain": [
       "xSubscriptionId_fk     int64\n",
       "xIdentityNo           object\n",
       "xOmorCode              int64\n",
       "xBakhshCode            int64\n",
       "xCycleCode             int64\n",
       "xMamorCode             int64\n",
       "xRegionName           object\n",
       "xIsTropical            int64\n",
       "xUsageGroupName       object\n",
       "xFamilyNum             int64\n",
       "xTariffOldCode         int64\n",
       "xFaze                  int64\n",
       "xAmper                 int64\n",
       "xCounterBuldingNo      int64\n",
       "xTimeControlCode       int64\n",
       "xBillStartDate        object\n",
       "xBillEndDate          object\n",
       "xMeduimKw              int64\n",
       "xHighKw                int64\n",
       "xLowKw                 int64\n",
       "dtype: object"
      ]
     },
     "execution_count": 20,
     "metadata": {},
     "output_type": "execute_result"
    }
   ],
   "source": [
    "# Data Types for Each Attribute\n",
    "types = df.dtypes\n",
    "types.head(20)"
   ]
  },
  {
   "cell_type": "markdown",
   "metadata": {},
   "source": [
    "We can see that most of the attribute types are objects (categorical string values)."
   ]
  },
  {
   "cell_type": "markdown",
   "metadata": {},
   "source": [
    "## 1.4. Data Cleaning and Transformation\n",
    "\n",
    "For apply more effective analysis on data we need to reshape our data. So we transform categorical data to numbers using one-hot encoding and fill **NaN** valuses with average amount as a way for data cleaning."
   ]
  },
  {
   "cell_type": "code",
   "execution_count": 21,
   "metadata": {},
   "outputs": [],
   "source": [
    "# Utils\n",
    "\n",
    "def days_difference(start_date, end_date):    \n",
    "    start_date = start_date.split(\"/\")\n",
    "    end_date = end_date.split(\"/\")\n",
    "    \n",
    "    jalali_start_date = JalaliDate(int(start_date[0]), int(start_date[1]), int(start_date[2]))\n",
    "    jalali_end_date = JalaliDate(int(end_date[0]), int(end_date[1]), int(end_date[2]))\n",
    "\n",
    "    difference = jalali_end_date.to_gregorian() - jalali_start_date.to_gregorian()\n",
    "    \n",
    "    return difference.days\n",
    "\n",
    "def extract_month(input_date):\n",
    "    return int(input_date.split(\"/\")[1])"
   ]
  },
  {
   "cell_type": "code",
   "execution_count": null,
   "metadata": {},
   "outputs": [],
   "source": [
    "# Clean Dataset\n",
    "\n",
    "df = df.drop('xIsTropical', 1) # Since it's a constant value\n",
    "df = df.drop('xOmorCode', 1) # Since it's a constant value\n",
    "df = df.drop('xCounterBuldingNo', 1) # Since we can use 'xTimeControlCode' field\n",
    "df = df.drop('xIdentityNo', 1) # Since we can use other decomposed fields.\n",
    "df = df.drop('xMamorCode', 1) # It seems there is no useful information in this field\n",
    "\n",
    "# Map Persian strings to English strings for field: 'xRegionName'\n",
    "region_maps = {'شهری': 'Shahri', 'روستایی': 'Roustaei'}\n",
    "df['xRegionName'].replace(region_maps, inplace=True)\n",
    "# One-Hot Encoding on categorical values\n",
    "# use pd.concat to join the new columns with your original dataframe\n",
    "df = pd.concat([df,pd.get_dummies(df['xRegionName'], prefix='xRegionName')],axis=1)\n",
    "df = df.drop('xRegionName', 1) # Since we can use one-hot encoded features instead\n",
    "\n",
    "# Map Persian strings to English strings for field: 'xUsageGroupName'\n",
    "usage_group_maps = {'عمومي': 'Omoomi',\n",
    "                    'خانگي': 'Khanegi',\n",
    "                    'كشاورزي': 'Keshavarzi',\n",
    "                    'ساير مصارف': 'Sayer',\n",
    "                    'صنعتي': 'Sanati'}\n",
    "df['xUsageGroupName'].replace(usage_group_maps, inplace=True)\n",
    "# One-Hot Encoding on categorical values\n",
    "# use pd.concat to join the new columns with your original dataframe\n",
    "df = pd.concat([df,pd.get_dummies(df['xUsageGroupName'], prefix='xUsageGroupName')],axis=1)\n",
    "df = df.drop('xUsageGroupName', 1) # Since we can use one-hot encoded features instead\n",
    "\n",
    "# One-Hot Encoding on categorical values\n",
    "# use pd.concat to join the new columns with your original dataframe\n",
    "df = pd.concat([df,pd.get_dummies(df['xBakhshCode'], prefix='xBakhshCode')],axis=1)\n",
    "df = df.drop('xBakhshCode', 1) # Since we can use one-hot encoded features instead\n",
    "\n",
    "# One-Hot Encoding on categorical values\n",
    "# use pd.concat to join the new columns with your original dataframe\n",
    "df = pd.concat([df,pd.get_dummies(df['xTimeControlCode'], prefix='xTimeControlCode')],axis=1)\n",
    "df = df.drop('xTimeControlCode', 1) # Since we can use one-hot encoded features instead\n",
    "\n",
    "# One-Hot Encoding on categorical values\n",
    "# use pd.concat to join the new columns with your original dataframe\n",
    "df = pd.concat([df,pd.get_dummies(df['xTariffOldCode'], prefix='xTariffOldCode')],axis=1)\n",
    "df = df.drop('xTariffOldCode', 1) # Since we can use one-hot encoded features instead\n",
    "\n",
    "# Adding new features using 'xBillStartDate' and 'xBillEndDate'.\n",
    "df['days_difference'] = df.apply(lambda row: days_difference(row.xBillStartDate, row.xBillEndDate), axis=1)\n",
    "df['month'] = df.apply(lambda row: extract_month(row.xBillStartDate), axis=1)\n",
    "\n",
    "# Adding 3 new fields to dataset for calculating daily usage of users.\n",
    "df['mediumDailyUsage'] = df['xMeduimKw']/df['days_difference'].astype('float64')\n",
    "df['highDailyUsage'] = df['xHighKw']/df['days_difference'].astype('float64')\n",
    "df['lowDailyUsage'] = df['xLowKw']/df['days_difference'].astype('float64')\n",
    "\n",
    "df = df.drop('xBillStartDate', 1) # Since we've extracted useful parts before\n",
    "df = df.drop('xBillEndDate', 1) # Since we've extracted useful parts before\n",
    "\n",
    "# Move target or labels to the end of dataset\n",
    "xMeduimKw_tmp = df.pop('xMeduimKw') # remove column xMeduimKw and store it in xMeduimKw_tmp\n",
    "xHighKw_tmp = df.pop('xHighKw') # remove column xHighKw and store it in xHighKw_tmp\n",
    "xLowKw_tmp = df.pop('xLowKw') # remove column xLowKw and store it in xLowKw_tmp\n",
    "\n",
    "df['xMeduimKw']=xMeduimKw_tmp # add xMeduimKw series as a 'new' column.\n",
    "df['xHighKw']=xHighKw_tmp # add xMeduimKw series as a 'new' column.\n",
    "df['xLowKw']=xLowKw_tmp # add xMeduimKw series as a 'new' column.\n",
    "\n",
    "# Normalize values between [0, 1]\n",
    "column_names = list(df.columns.values)\n",
    "\n",
    "min_max_scaler = preprocessing.MinMaxScaler()\n",
    "\n",
    "column_names_to_not_normalize = ['xSubscriptionId_fk', 'month']\n",
    "column_names_to_normalize = [x for x in list(df) if x not in column_names_to_not_normalize ]\n",
    "x = df[column_names_to_normalize].values\n",
    "x_scaled = min_max_scaler.fit_transform(x)\n",
    "df_temp = pd.DataFrame(x_scaled, columns=column_names_to_normalize, index = df.index)\n",
    "df[column_names_to_normalize] = df_temp\n",
    "\n",
    "df.columns = column_names\n",
    "\n",
    "# Save cleaned dataset for using in later analysis\n",
    "df.to_csv('../dataset/dbBills_cleaned.csv')"
   ]
  },
  {
   "cell_type": "code",
   "execution_count": null,
   "metadata": {},
   "outputs": [],
   "source": [
    "# Load the cleaned dataset\n",
    "df = pd.read_csv(\"../dataset/dbBills_cleaned.csv\")\n",
    "\n",
    "# Print top 5 reeocrds of dataset\n",
    "df.head()"
   ]
  },
  {
   "cell_type": "markdown",
   "metadata": {},
   "source": [
    "## 1.5. Descriptive Statistics\n",
    "\n",
    "Descriptive statistics can give you great insight into the shape of each attribute.\n",
    "\n",
    "Often you can create more summaries than you have time to review. The describe() function on the Pandas DataFrame lists 8 statistical properties of each attribute:\n",
    "\n",
    "* **Count**\n",
    "* **Mean**\n",
    "* **Standard Devaition**\n",
    "* **Minimum Value**\n",
    "* **25th Percentile**\n",
    "* **50th Percentile (Median)**\n",
    "* **75th Percentile**\n",
    "* **Maximum Value**"
   ]
  },
  {
   "cell_type": "code",
   "execution_count": null,
   "metadata": {},
   "outputs": [],
   "source": [
    "df.describe()"
   ]
  },
  {
   "cell_type": "markdown",
   "metadata": {},
   "source": [
    "We can see that we do get a lot of data. We will note some functio calls in the recipe to change the precision of the numbers and the preferred width of the output. This is to make it more readable for this example.\n",
    "\n",
    "When describing our data this way, it is worth taking some time and reviewing observations from the results. This might include the presence of “NA” values for missing data or surprising distributions for attributes. We can see Box-Plot chart for 4 selected features as following. This charts will help us to detect outliers."
   ]
  },
  {
   "cell_type": "code",
   "execution_count": null,
   "metadata": {},
   "outputs": [],
   "source": [
    "boxplot = df.boxplot(column=['xMeduimKw', 'xHighKw', 'xLowKw', 'days_difference'], \n",
    "                                   return_type='axes', \n",
    "                                   figsize=(10,10),\n",
    "                                   notch = True\n",
    "                                  )"
   ]
  },
  {
   "cell_type": "markdown",
   "metadata": {},
   "source": [
    "### Interpreting the Box-Plot chart for weights\n",
    "\n",
    "A box and whisker plot—also called a box plot—displays the five-number summary of a set of data. The five-number summary is the minimum, first quartile, median, third quartile, and maximum.\n",
    "\n",
    "In a box plot, we draw a box from the first quartile to the third quartile. A vertical line goes through the box at the median. The whiskers go from each quartile to the minimum or maximum."
   ]
  },
  {
   "cell_type": "markdown",
   "metadata": {},
   "source": [
    "## 1.6. Class Distribution (Classification Only)\n",
    "\n",
    "On classification problems we need to know how balanced the class values are.\n",
    "\n",
    "Highly imbalanced problems (a lot more observations for one class than another) are common and may need special handling in the data preparation stage of your project.\n",
    "\n",
    "We can quickly get an idea of the distribution of the class attribute here."
   ]
  },
  {
   "cell_type": "code",
   "execution_count": null,
   "metadata": {},
   "outputs": [],
   "source": [
    "fig, ax =plt.subplots(1,3)\n",
    "fig.set_size_inches(18, 18)\n",
    "\n",
    "sns.distplot(df[\"xMeduimKw\"] , color=\"skyblue\", label=\"xMeduimKw\")\n",
    "sns.distplot(df[\"xHighKw\"] , color=\"skyblue\", label=\"xHighKw\")\n",
    "sns.distplot(df[\"xLowKw\"] , color=\"skyblue\", label=\"xLowKw\")"
   ]
  },
  {
   "cell_type": "markdown",
   "metadata": {},
   "source": [
    "1.7. Correlation Between Attributes\n",
    "Correlation refers to the relationship between two variables and how they may or may not change together.\n",
    "\n",
    "The most common method for calculating correlation is Pearson’s Correlation Coefficient, that assumes a normal distribution of the attributes involved. A correlation of -1 or 1 shows a full negative or positive correlation respectively. Whereas a value of 0 shows no correlation at all.\n",
    "\n",
    "Some machine learning algorithms like linear and logistic regression can suffer poor performance if there are highly correlated attributes in your dataset. As such, it is a good idea to review all of the pair-wise correlations of the attributes in your dataset. We can use below code snippet to calculate a correlation matrix."
   ]
  },
  {
   "cell_type": "code",
   "execution_count": null,
   "metadata": {},
   "outputs": [],
   "source": [
    "correlations = df.corr(method='pearson')"
   ]
  },
  {
   "cell_type": "markdown",
   "metadata": {},
   "source": [
    "The matrix lists all attributes across the top and down the side, to give correlation between all pairs of attributes (twice, because the matrix is symmetrical). We can see the diagonal line through the matrix from the top left to bottom right corners of the matrix shows perfect correlation of each attribute with itself."
   ]
  },
  {
   "cell_type": "code",
   "execution_count": null,
   "metadata": {},
   "outputs": [],
   "source": [
    "correlations.head()"
   ]
  },
  {
   "cell_type": "markdown",
   "metadata": {},
   "source": [
    "We can also visualize correlations as a heatmap chart:"
   ]
  },
  {
   "cell_type": "code",
   "execution_count": null,
   "metadata": {},
   "outputs": [],
   "source": [
    "cols = df.columns.values[1:24]\n",
    "corr_matrix = df[cols].corr()\n",
    "\n",
    "plt.figure(figsize=(20, 20))\n",
    "heatmap = sns.heatmap(\n",
    "    corr_matrix, \n",
    "    cbar=True, \n",
    "    annot=True, \n",
    "    square=True, \n",
    "    fmt='.2f', \n",
    "    annot_kws={'size': 15}, \n",
    "    yticklabels=cols, \n",
    "    xticklabels=cols, \n",
    "    cmap='Dark2'\n",
    ")"
   ]
  },
  {
   "cell_type": "markdown",
   "metadata": {},
   "source": [
    "### Heatmap chart interpretation\n",
    "\n",
    "In this chart we can investigate amount of correlation between different features. For example correlation between **xHighKw** and **xLowKw** in this chart is **0.82** which means they are highly correlated and by increasing one, other one will be increased.\n",
    "\n",
    "* ***Positive correlations between two feature means that with increasing one, other one will be increased.***\n",
    "* ***Negative correlations between two feature means that with increasing one, other one will be decreased.***\n",
    "* ***0 correlations between two feature means that they are uncorrelated.***"
   ]
  },
  {
   "cell_type": "markdown",
   "metadata": {},
   "source": [
    "## 1.8. Skew of Univariate Distributions\n",
    "\n",
    "Skew refers to a distribution that is assumed Gaussian (normal or bell curve) that is shifted or squashed in one direction or another.\n",
    "\n",
    "Many machine learning algorithms assume a Gaussian distribution. Knowing that an attribute has a skew may allow we to perform data preparation to correct the skew and later improve the accuracy of your models.\n",
    "\n",
    "We can calculate the skew of each attribute as following."
   ]
  },
  {
   "cell_type": "code",
   "execution_count": null,
   "metadata": {},
   "outputs": [],
   "source": [
    "skew = df.skew()"
   ]
  },
  {
   "cell_type": "markdown",
   "metadata": {},
   "source": [
    "The skew result show a positive (right) or negative (left) skew. Values closer to zero show less skew."
   ]
  },
  {
   "cell_type": "code",
   "execution_count": null,
   "metadata": {},
   "outputs": [],
   "source": [
    "skew.head(25)"
   ]
  },
  {
   "cell_type": "code",
   "execution_count": 6,
   "metadata": {},
   "outputs": [
    {
     "ename": "KeyError",
     "evalue": "'days_difference'",
     "output_type": "error",
     "traceback": [
      "\u001b[0;31m---------------------------------------------------------------------------\u001b[0m",
      "\u001b[0;31mKeyError\u001b[0m                                  Traceback (most recent call last)",
      "\u001b[0;32m/usr/local/lib/python3.5/dist-packages/pandas/core/indexes/base.py\u001b[0m in \u001b[0;36mget_loc\u001b[0;34m(self, key, method, tolerance)\u001b[0m\n\u001b[1;32m   2524\u001b[0m             \u001b[0;32mtry\u001b[0m\u001b[0;34m:\u001b[0m\u001b[0;34m\u001b[0m\u001b[0m\n\u001b[0;32m-> 2525\u001b[0;31m                 \u001b[0;32mreturn\u001b[0m \u001b[0mself\u001b[0m\u001b[0;34m.\u001b[0m\u001b[0m_engine\u001b[0m\u001b[0;34m.\u001b[0m\u001b[0mget_loc\u001b[0m\u001b[0;34m(\u001b[0m\u001b[0mkey\u001b[0m\u001b[0;34m)\u001b[0m\u001b[0;34m\u001b[0m\u001b[0m\n\u001b[0m\u001b[1;32m   2526\u001b[0m             \u001b[0;32mexcept\u001b[0m \u001b[0mKeyError\u001b[0m\u001b[0;34m:\u001b[0m\u001b[0;34m\u001b[0m\u001b[0m\n",
      "\u001b[0;32mpandas/_libs/index.pyx\u001b[0m in \u001b[0;36mpandas._libs.index.IndexEngine.get_loc\u001b[0;34m()\u001b[0m\n",
      "\u001b[0;32mpandas/_libs/index.pyx\u001b[0m in \u001b[0;36mpandas._libs.index.IndexEngine.get_loc\u001b[0;34m()\u001b[0m\n",
      "\u001b[0;32mpandas/_libs/hashtable_class_helper.pxi\u001b[0m in \u001b[0;36mpandas._libs.hashtable.PyObjectHashTable.get_item\u001b[0;34m()\u001b[0m\n",
      "\u001b[0;32mpandas/_libs/hashtable_class_helper.pxi\u001b[0m in \u001b[0;36mpandas._libs.hashtable.PyObjectHashTable.get_item\u001b[0;34m()\u001b[0m\n",
      "\u001b[0;31mKeyError\u001b[0m: 'days_difference'",
      "\nDuring handling of the above exception, another exception occurred:\n",
      "\u001b[0;31mKeyError\u001b[0m                                  Traceback (most recent call last)",
      "\u001b[0;32m<ipython-input-6-ffc8f6056ca3>\u001b[0m in \u001b[0;36m<module>\u001b[0;34m()\u001b[0m\n\u001b[1;32m      5\u001b[0m \u001b[0msns\u001b[0m\u001b[0;34m.\u001b[0m\u001b[0mdistplot\u001b[0m\u001b[0;34m(\u001b[0m\u001b[0mdf\u001b[0m\u001b[0;34m[\u001b[0m\u001b[0;34m\"xHighKw\"\u001b[0m\u001b[0;34m]\u001b[0m\u001b[0;34m,\u001b[0m \u001b[0mkde\u001b[0m\u001b[0;34m=\u001b[0m\u001b[0;32mFalse\u001b[0m\u001b[0;34m,\u001b[0m \u001b[0mfit\u001b[0m\u001b[0;34m=\u001b[0m\u001b[0mstats\u001b[0m\u001b[0;34m.\u001b[0m\u001b[0mgamma\u001b[0m\u001b[0;34m,\u001b[0m \u001b[0max\u001b[0m\u001b[0;34m=\u001b[0m\u001b[0max\u001b[0m\u001b[0;34m[\u001b[0m\u001b[0;36m0\u001b[0m\u001b[0;34m]\u001b[0m\u001b[0;34m[\u001b[0m\u001b[0;36m1\u001b[0m\u001b[0;34m]\u001b[0m\u001b[0;34m)\u001b[0m\u001b[0;34m;\u001b[0m\u001b[0;34m\u001b[0m\u001b[0m\n\u001b[1;32m      6\u001b[0m \u001b[0msns\u001b[0m\u001b[0;34m.\u001b[0m\u001b[0mdistplot\u001b[0m\u001b[0;34m(\u001b[0m\u001b[0mdf\u001b[0m\u001b[0;34m[\u001b[0m\u001b[0;34m\"xLowKw\"\u001b[0m\u001b[0;34m]\u001b[0m\u001b[0;34m,\u001b[0m \u001b[0mkde\u001b[0m\u001b[0;34m=\u001b[0m\u001b[0;32mFalse\u001b[0m\u001b[0;34m,\u001b[0m \u001b[0mfit\u001b[0m\u001b[0;34m=\u001b[0m\u001b[0mstats\u001b[0m\u001b[0;34m.\u001b[0m\u001b[0mgamma\u001b[0m\u001b[0;34m,\u001b[0m \u001b[0max\u001b[0m\u001b[0;34m=\u001b[0m\u001b[0max\u001b[0m\u001b[0;34m[\u001b[0m\u001b[0;36m1\u001b[0m\u001b[0;34m]\u001b[0m\u001b[0;34m[\u001b[0m\u001b[0;36m0\u001b[0m\u001b[0;34m]\u001b[0m\u001b[0;34m)\u001b[0m\u001b[0;34m;\u001b[0m\u001b[0;34m\u001b[0m\u001b[0m\n\u001b[0;32m----> 7\u001b[0;31m \u001b[0msns\u001b[0m\u001b[0;34m.\u001b[0m\u001b[0mdistplot\u001b[0m\u001b[0;34m(\u001b[0m\u001b[0mdf\u001b[0m\u001b[0;34m[\u001b[0m\u001b[0;34m\"days_difference\"\u001b[0m\u001b[0;34m]\u001b[0m\u001b[0;34m,\u001b[0m \u001b[0mkde\u001b[0m\u001b[0;34m=\u001b[0m\u001b[0;32mFalse\u001b[0m\u001b[0;34m,\u001b[0m \u001b[0mfit\u001b[0m\u001b[0;34m=\u001b[0m\u001b[0mstats\u001b[0m\u001b[0;34m.\u001b[0m\u001b[0mgamma\u001b[0m\u001b[0;34m,\u001b[0m \u001b[0max\u001b[0m\u001b[0;34m=\u001b[0m\u001b[0max\u001b[0m\u001b[0;34m[\u001b[0m\u001b[0;36m1\u001b[0m\u001b[0;34m]\u001b[0m\u001b[0;34m[\u001b[0m\u001b[0;36m1\u001b[0m\u001b[0;34m]\u001b[0m\u001b[0;34m)\u001b[0m\u001b[0;34m;\u001b[0m\u001b[0;34m\u001b[0m\u001b[0m\n\u001b[0m",
      "\u001b[0;32m/usr/local/lib/python3.5/dist-packages/pandas/core/frame.py\u001b[0m in \u001b[0;36m__getitem__\u001b[0;34m(self, key)\u001b[0m\n\u001b[1;32m   2137\u001b[0m             \u001b[0;32mreturn\u001b[0m \u001b[0mself\u001b[0m\u001b[0;34m.\u001b[0m\u001b[0m_getitem_multilevel\u001b[0m\u001b[0;34m(\u001b[0m\u001b[0mkey\u001b[0m\u001b[0;34m)\u001b[0m\u001b[0;34m\u001b[0m\u001b[0m\n\u001b[1;32m   2138\u001b[0m         \u001b[0;32melse\u001b[0m\u001b[0;34m:\u001b[0m\u001b[0;34m\u001b[0m\u001b[0m\n\u001b[0;32m-> 2139\u001b[0;31m             \u001b[0;32mreturn\u001b[0m \u001b[0mself\u001b[0m\u001b[0;34m.\u001b[0m\u001b[0m_getitem_column\u001b[0m\u001b[0;34m(\u001b[0m\u001b[0mkey\u001b[0m\u001b[0;34m)\u001b[0m\u001b[0;34m\u001b[0m\u001b[0m\n\u001b[0m\u001b[1;32m   2140\u001b[0m \u001b[0;34m\u001b[0m\u001b[0m\n\u001b[1;32m   2141\u001b[0m     \u001b[0;32mdef\u001b[0m \u001b[0m_getitem_column\u001b[0m\u001b[0;34m(\u001b[0m\u001b[0mself\u001b[0m\u001b[0;34m,\u001b[0m \u001b[0mkey\u001b[0m\u001b[0;34m)\u001b[0m\u001b[0;34m:\u001b[0m\u001b[0;34m\u001b[0m\u001b[0m\n",
      "\u001b[0;32m/usr/local/lib/python3.5/dist-packages/pandas/core/frame.py\u001b[0m in \u001b[0;36m_getitem_column\u001b[0;34m(self, key)\u001b[0m\n\u001b[1;32m   2144\u001b[0m         \u001b[0;31m# get column\u001b[0m\u001b[0;34m\u001b[0m\u001b[0;34m\u001b[0m\u001b[0m\n\u001b[1;32m   2145\u001b[0m         \u001b[0;32mif\u001b[0m \u001b[0mself\u001b[0m\u001b[0;34m.\u001b[0m\u001b[0mcolumns\u001b[0m\u001b[0;34m.\u001b[0m\u001b[0mis_unique\u001b[0m\u001b[0;34m:\u001b[0m\u001b[0;34m\u001b[0m\u001b[0m\n\u001b[0;32m-> 2146\u001b[0;31m             \u001b[0;32mreturn\u001b[0m \u001b[0mself\u001b[0m\u001b[0;34m.\u001b[0m\u001b[0m_get_item_cache\u001b[0m\u001b[0;34m(\u001b[0m\u001b[0mkey\u001b[0m\u001b[0;34m)\u001b[0m\u001b[0;34m\u001b[0m\u001b[0m\n\u001b[0m\u001b[1;32m   2147\u001b[0m \u001b[0;34m\u001b[0m\u001b[0m\n\u001b[1;32m   2148\u001b[0m         \u001b[0;31m# duplicate columns & possible reduce dimensionality\u001b[0m\u001b[0;34m\u001b[0m\u001b[0;34m\u001b[0m\u001b[0m\n",
      "\u001b[0;32m/usr/local/lib/python3.5/dist-packages/pandas/core/generic.py\u001b[0m in \u001b[0;36m_get_item_cache\u001b[0;34m(self, item)\u001b[0m\n\u001b[1;32m   1840\u001b[0m         \u001b[0mres\u001b[0m \u001b[0;34m=\u001b[0m \u001b[0mcache\u001b[0m\u001b[0;34m.\u001b[0m\u001b[0mget\u001b[0m\u001b[0;34m(\u001b[0m\u001b[0mitem\u001b[0m\u001b[0;34m)\u001b[0m\u001b[0;34m\u001b[0m\u001b[0m\n\u001b[1;32m   1841\u001b[0m         \u001b[0;32mif\u001b[0m \u001b[0mres\u001b[0m \u001b[0;32mis\u001b[0m \u001b[0;32mNone\u001b[0m\u001b[0;34m:\u001b[0m\u001b[0;34m\u001b[0m\u001b[0m\n\u001b[0;32m-> 1842\u001b[0;31m             \u001b[0mvalues\u001b[0m \u001b[0;34m=\u001b[0m \u001b[0mself\u001b[0m\u001b[0;34m.\u001b[0m\u001b[0m_data\u001b[0m\u001b[0;34m.\u001b[0m\u001b[0mget\u001b[0m\u001b[0;34m(\u001b[0m\u001b[0mitem\u001b[0m\u001b[0;34m)\u001b[0m\u001b[0;34m\u001b[0m\u001b[0m\n\u001b[0m\u001b[1;32m   1843\u001b[0m             \u001b[0mres\u001b[0m \u001b[0;34m=\u001b[0m \u001b[0mself\u001b[0m\u001b[0;34m.\u001b[0m\u001b[0m_box_item_values\u001b[0m\u001b[0;34m(\u001b[0m\u001b[0mitem\u001b[0m\u001b[0;34m,\u001b[0m \u001b[0mvalues\u001b[0m\u001b[0;34m)\u001b[0m\u001b[0;34m\u001b[0m\u001b[0m\n\u001b[1;32m   1844\u001b[0m             \u001b[0mcache\u001b[0m\u001b[0;34m[\u001b[0m\u001b[0mitem\u001b[0m\u001b[0;34m]\u001b[0m \u001b[0;34m=\u001b[0m \u001b[0mres\u001b[0m\u001b[0;34m\u001b[0m\u001b[0m\n",
      "\u001b[0;32m/usr/local/lib/python3.5/dist-packages/pandas/core/internals.py\u001b[0m in \u001b[0;36mget\u001b[0;34m(self, item, fastpath)\u001b[0m\n\u001b[1;32m   3841\u001b[0m \u001b[0;34m\u001b[0m\u001b[0m\n\u001b[1;32m   3842\u001b[0m             \u001b[0;32mif\u001b[0m \u001b[0;32mnot\u001b[0m \u001b[0misna\u001b[0m\u001b[0;34m(\u001b[0m\u001b[0mitem\u001b[0m\u001b[0;34m)\u001b[0m\u001b[0;34m:\u001b[0m\u001b[0;34m\u001b[0m\u001b[0m\n\u001b[0;32m-> 3843\u001b[0;31m                 \u001b[0mloc\u001b[0m \u001b[0;34m=\u001b[0m \u001b[0mself\u001b[0m\u001b[0;34m.\u001b[0m\u001b[0mitems\u001b[0m\u001b[0;34m.\u001b[0m\u001b[0mget_loc\u001b[0m\u001b[0;34m(\u001b[0m\u001b[0mitem\u001b[0m\u001b[0;34m)\u001b[0m\u001b[0;34m\u001b[0m\u001b[0m\n\u001b[0m\u001b[1;32m   3844\u001b[0m             \u001b[0;32melse\u001b[0m\u001b[0;34m:\u001b[0m\u001b[0;34m\u001b[0m\u001b[0m\n\u001b[1;32m   3845\u001b[0m                 \u001b[0mindexer\u001b[0m \u001b[0;34m=\u001b[0m \u001b[0mnp\u001b[0m\u001b[0;34m.\u001b[0m\u001b[0marange\u001b[0m\u001b[0;34m(\u001b[0m\u001b[0mlen\u001b[0m\u001b[0;34m(\u001b[0m\u001b[0mself\u001b[0m\u001b[0;34m.\u001b[0m\u001b[0mitems\u001b[0m\u001b[0;34m)\u001b[0m\u001b[0;34m)\u001b[0m\u001b[0;34m[\u001b[0m\u001b[0misna\u001b[0m\u001b[0;34m(\u001b[0m\u001b[0mself\u001b[0m\u001b[0;34m.\u001b[0m\u001b[0mitems\u001b[0m\u001b[0;34m)\u001b[0m\u001b[0;34m]\u001b[0m\u001b[0;34m\u001b[0m\u001b[0m\n",
      "\u001b[0;32m/usr/local/lib/python3.5/dist-packages/pandas/core/indexes/base.py\u001b[0m in \u001b[0;36mget_loc\u001b[0;34m(self, key, method, tolerance)\u001b[0m\n\u001b[1;32m   2525\u001b[0m                 \u001b[0;32mreturn\u001b[0m \u001b[0mself\u001b[0m\u001b[0;34m.\u001b[0m\u001b[0m_engine\u001b[0m\u001b[0;34m.\u001b[0m\u001b[0mget_loc\u001b[0m\u001b[0;34m(\u001b[0m\u001b[0mkey\u001b[0m\u001b[0;34m)\u001b[0m\u001b[0;34m\u001b[0m\u001b[0m\n\u001b[1;32m   2526\u001b[0m             \u001b[0;32mexcept\u001b[0m \u001b[0mKeyError\u001b[0m\u001b[0;34m:\u001b[0m\u001b[0;34m\u001b[0m\u001b[0m\n\u001b[0;32m-> 2527\u001b[0;31m                 \u001b[0;32mreturn\u001b[0m \u001b[0mself\u001b[0m\u001b[0;34m.\u001b[0m\u001b[0m_engine\u001b[0m\u001b[0;34m.\u001b[0m\u001b[0mget_loc\u001b[0m\u001b[0;34m(\u001b[0m\u001b[0mself\u001b[0m\u001b[0;34m.\u001b[0m\u001b[0m_maybe_cast_indexer\u001b[0m\u001b[0;34m(\u001b[0m\u001b[0mkey\u001b[0m\u001b[0;34m)\u001b[0m\u001b[0;34m)\u001b[0m\u001b[0;34m\u001b[0m\u001b[0m\n\u001b[0m\u001b[1;32m   2528\u001b[0m \u001b[0;34m\u001b[0m\u001b[0m\n\u001b[1;32m   2529\u001b[0m         \u001b[0mindexer\u001b[0m \u001b[0;34m=\u001b[0m \u001b[0mself\u001b[0m\u001b[0;34m.\u001b[0m\u001b[0mget_indexer\u001b[0m\u001b[0;34m(\u001b[0m\u001b[0;34m[\u001b[0m\u001b[0mkey\u001b[0m\u001b[0;34m]\u001b[0m\u001b[0;34m,\u001b[0m \u001b[0mmethod\u001b[0m\u001b[0;34m=\u001b[0m\u001b[0mmethod\u001b[0m\u001b[0;34m,\u001b[0m \u001b[0mtolerance\u001b[0m\u001b[0;34m=\u001b[0m\u001b[0mtolerance\u001b[0m\u001b[0;34m)\u001b[0m\u001b[0;34m\u001b[0m\u001b[0m\n",
      "\u001b[0;32mpandas/_libs/index.pyx\u001b[0m in \u001b[0;36mpandas._libs.index.IndexEngine.get_loc\u001b[0;34m()\u001b[0m\n",
      "\u001b[0;32mpandas/_libs/index.pyx\u001b[0m in \u001b[0;36mpandas._libs.index.IndexEngine.get_loc\u001b[0;34m()\u001b[0m\n",
      "\u001b[0;32mpandas/_libs/hashtable_class_helper.pxi\u001b[0m in \u001b[0;36mpandas._libs.hashtable.PyObjectHashTable.get_item\u001b[0;34m()\u001b[0m\n",
      "\u001b[0;32mpandas/_libs/hashtable_class_helper.pxi\u001b[0m in \u001b[0;36mpandas._libs.hashtable.PyObjectHashTable.get_item\u001b[0;34m()\u001b[0m\n",
      "\u001b[0;31mKeyError\u001b[0m: 'days_difference'"
     ]
    },
    {
     "data": {
      "image/png": "[encoded data removed]",
      "text/plain": [
       "<matplotlib.figure.Figure at 0x7fadd4c69d30>"
      ]
     },
     "metadata": {},
     "output_type": "display_data"
    }
   ],
   "source": [
    "fig, ax =plt.subplots(2,2)\n",
    "fig.set_size_inches(18, 18)\n",
    "\n",
    "sns.distplot(df[\"xMeduimKw\"], kde=False, fit=stats.gamma, ax=ax[0][0]);\n",
    "sns.distplot(df[\"xHighKw\"], kde=False, fit=stats.gamma, ax=ax[0][1]);\n",
    "sns.distplot(df[\"xLowKw\"], kde=False, fit=stats.gamma, ax=ax[1][0]);\n",
    "sns.distplot(df[\"days_difference\"], kde=False, fit=stats.gamma, ax=ax[1][1]);"
   ]
  },
  {
   "cell_type": "markdown",
   "metadata": {},
   "source": [
    "# Spliting data for unique users"
   ]
  },
  {
   "cell_type": "code",
   "execution_count": null,
   "metadata": {},
   "outputs": [],
   "source": [
    "# Spliting data for unique users\n",
    "\n",
    "unique_users = df['xSubscriptionId_fk'].unique()\n",
    "\n",
    "for unique_user in unique_users:\n",
    "    temp_df = df\n",
    "    user_data = temp_df.loc[temp_df['xSubscriptionId_fk'] == unique_user]\n",
    "    \n",
    "    user_data.to_csv('../dataset/users_data/' + str(unique_user) + '.csv')"
   ]
  },
  {
   "cell_type": "code",
   "execution_count": null,
   "metadata": {},
   "outputs": [],
   "source": []
  }
 ],
 "metadata": {
  "kernelspec": {
   "display_name": "Python 3",
   "language": "python",
   "name": "python3"
  },
  "language_info": {
   "codemirror_mode": {
    "name": "ipython",
    "version": 3
   },
   "file_extension": ".py",
   "mimetype": "text/x-python",
   "name": "python",
   "nbconvert_exporter": "python",
   "pygments_lexer": "ipython3",
   "version": "3.5.2"
  }
 },
 "nbformat": 4,
 "nbformat_minor": 2
}
